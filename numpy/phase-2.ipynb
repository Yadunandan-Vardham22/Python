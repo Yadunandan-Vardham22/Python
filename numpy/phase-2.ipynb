{
 "cells": [
  {
   "cell_type": "markdown",
   "id": "577ff3d4",
   "metadata": {},
   "source": [
    "### Array Operations "
   ]
  },
  {
   "cell_type": "code",
   "execution_count": null,
   "id": "2336bc99",
   "metadata": {},
   "outputs": [],
   "source": [
    "import numpy as np\n",
    "\n",
    "arr_2d = np.array([[1, 2, 3], [4, 5, 6],[7, 8, 9]])\n",
    "print(arr_2d[1, 2])  # Output: 6\n",
    "print(\"Entire Column 0:\", arr_2d[:, 0])  # Output: [1 4 7]"
   ]
  },
  {
   "cell_type": "markdown",
   "id": "048ac216",
   "metadata": {},
   "source": [
    "### Sorting\n"
   ]
  },
  {
   "cell_type": "code",
   "execution_count": null,
   "id": "9b7fafd1",
   "metadata": {},
   "outputs": [],
   "source": [
    "unsorted_1d = np.array([3, 1, 4, 2])\n",
    "sorted_1d = np.sort(unsorted_1d) # Output: [1 2 3 4]\n",
    "\n",
    "unsorted_2d = np.array([[3, 2, 1], [6, 5, 4]])\n",
    "sorted_2d_axis0 = np.sort(unsorted_2d, axis=0) # Output: [[3 2 1], [6 5 4]] , column wise sorting\n",
    "sorted_2d_axis1 = np.sort(unsorted_2d, axis=1) # Output: [[1 2 3], [4 5 6]] , row wise sorting"
   ]
  },
  {
   "cell_type": "markdown",
   "id": "4c92e8b2",
   "metadata": {},
   "source": [
    "### Filtering with Mask"
   ]
  },
  {
   "cell_type": "code",
   "execution_count": null,
   "id": "2c5246c0",
   "metadata": {},
   "outputs": [],
   "source": [
    "numbers = np.array([10, 15, 20, 25, 30])\n",
    "mask = numbers > 20\n",
    "filtered_numbers = numbers[mask]  # Output: [25 30]\n",
    "\n",
    "conditional_arr = np.where(numbers > 20, numbers, -1)  # Output: [-1 -1 -1 25 30]"
   ]
  },
  {
   "cell_type": "markdown",
   "id": "69c3360e",
   "metadata": {},
   "source": [
    "## Adding and Removing Data"
   ]
  },
  {
   "cell_type": "code",
   "execution_count": null,
   "id": "495b708c",
   "metadata": {},
   "outputs": [],
   "source": [
    "arr1 = np.array([1, 2, 3])\n",
    "arr2 = np.array([4, 5, 6])\n",
    "combined = np.concatenate((arr1, arr2))  # Output: [1 2 3 4 5 6]\n",
    "print(\"Combined Array:\", combined)"
   ]
  },
  {
   "cell_type": "markdown",
   "id": "181185a9",
   "metadata": {},
   "source": [
    "### Array Compatibility"
   ]
  },
  {
   "cell_type": "code",
   "execution_count": null,
   "id": "2f06790c",
   "metadata": {},
   "outputs": [],
   "source": [
    "arr1 = np.array([1, 2, 3])\n",
    "arr2 = np.array([4, 5, 6])  \n",
    "arr3 = np.array([7, 8, 9,10])\n",
    "print(\"arr1 and arr2 are compatible for operations:\", arr1.shape == arr2.shape)  # True\n",
    "print(\"arr1 and arr3 are compatible for operations:\", arr1.shape == arr3.shape)  # False"
   ]
  },
  {
   "cell_type": "code",
   "execution_count": null,
   "id": "63271f6c",
   "metadata": {},
   "outputs": [],
   "source": [
    "original_2d = np.array([[1, 2], [3, 4]])\n",
    "new_row=np.array([[5, 6]])\n",
    "expanded_2d = np.vstack([original_2d, new_row])  # Output: [[1 2], [3 4], [5 6]]\n",
    "new_col=np.array([[7], [8], [9]])\n",
    "expanded_2d_col = np.hstack([expanded_2d, new_col])  # Output: [[1 2 7], [3 4 8], [5 6 9]]"
   ]
  }
 ],
 "metadata": {
  "language_info": {
   "name": "python"
  }
 },
 "nbformat": 4,
 "nbformat_minor": 5
}
