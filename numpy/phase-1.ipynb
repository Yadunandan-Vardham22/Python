{
 "cells": [
  {
   "cell_type": "markdown",
   "id": "3fae71d0",
   "metadata": {},
   "source": [
    "Learning Numpy"
   ]
  },
  {
   "cell_type": "code",
   "execution_count": 1,
   "id": "5fa52d8d",
   "metadata": {},
   "outputs": [],
   "source": [
    "import numpy as np"
   ]
  },
  {
   "cell_type": "markdown",
   "id": "8b61cc75",
   "metadata": {},
   "source": [
    "Creating the Numpy using lists"
   ]
  },
  {
   "cell_type": "code",
   "execution_count": 3,
   "id": "402991ca",
   "metadata": {},
   "outputs": [
    {
     "name": "stdout",
     "output_type": "stream",
     "text": [
      "[1 2 3 4 5]\n",
      "[[1 2 3]\n",
      " [4 5 6]]\n"
     ]
    }
   ],
   "source": [
    "arr = np.array([1, 2, 3, 4, 5])\n",
    "print(arr)\n",
    "arr_2d = np.array([[1, 2, 3], [4, 5, 6]])\n",
    "print(arr_2d)"
   ]
  },
  {
   "cell_type": "markdown",
   "id": "992e9aa2",
   "metadata": {},
   "source": [
    "### lists vs numpy "
   ]
  },
  {
   "cell_type": "code",
   "execution_count": 6,
   "id": "2db7880d",
   "metadata": {},
   "outputs": [
    {
     "name": "stdout",
     "output_type": "stream",
     "text": [
      "Multplication in lists: [1, 2, 3, 4, 5, 1, 2, 3, 4, 5]\n",
      "Multiplication in Numpy array: [ 2  4  6  8 10]\n"
     ]
    }
   ],
   "source": [
    "list_py = [1, 2, 3, 4, 5]\n",
    "print(\"Multplication in lists:\",list_py * 2)  # This will concatenate the list\n",
    "\n",
    "array_py = np.array([1, 2, 3, 4, 5])\n",
    "print(\"Multiplication in Numpy array:\",array_py * 2)  # This will perform element-wise multiplication"
   ]
  },
  {
   "cell_type": "markdown",
   "id": "1a571071",
   "metadata": {},
   "source": [
    "### Arrays from Scratch"
   ]
  },
  {
   "cell_type": "code",
   "execution_count": 7,
   "id": "15d69350",
   "metadata": {},
   "outputs": [
    {
     "name": "stdout",
     "output_type": "stream",
     "text": [
      "Array of ones:\n",
      " [[1. 1. 1. 1.]\n",
      " [1. 1. 1. 1.]\n",
      " [1. 1. 1. 1.]]\n",
      "Array of zeros:\n",
      " [[0. 0. 0. 0. 0.]\n",
      " [0. 0. 0. 0. 0.]]\n",
      "Array filled with 7s:\n",
      " [[7 7 7]\n",
      " [7 7 7]]\n"
     ]
    }
   ],
   "source": [
    "ones = np.ones((3, 4))\n",
    "print(\"Array of ones:\\n\", ones)\n",
    "\n",
    "zeros = np.zeros((2, 5))\n",
    "print(\"Array of zeros:\\n\", zeros)   \n",
    "\n",
    "full = np.full((2, 3), 7)\n",
    "print(\"Array filled with 7s:\\n\", full)"
   ]
  },
  {
   "cell_type": "code",
   "execution_count": null,
   "id": "c98eaebd",
   "metadata": {},
   "outputs": [
    {
     "name": "stdout",
     "output_type": "stream",
     "text": [
      "Array with random values:\n",
      " [[ 6.99509464  4.41937897 10.17873659]\n",
      " [ 4.11584108  8.49233421  3.12229181]]\n",
      "Array with a sequence of numbers:\n",
      " [ 0  2  4  6  8 10 12 14 16 18 20]\n"
     ]
    }
   ],
   "source": [
    "\n",
    "random = np.random.rand(2, 3)*10+1\n",
    "print(\"Array with random values:\\n\", random)\n",
    "\n",
    "sequence = np.arange(0, 21, 2)\n",
    "print(\"Array with a sequence of numbers:\\n\", sequence)"
   ]
  },
  {
   "cell_type": "markdown",
   "id": "be4658ad",
   "metadata": {},
   "source": [
    "### Vector , Matrices , Tensor"
   ]
  },
  {
   "cell_type": "code",
   "execution_count": 17,
   "id": "ed0b06fd",
   "metadata": {},
   "outputs": [
    {
     "name": "stdout",
     "output_type": "stream",
     "text": [
      "Vector:\n",
      " [1 2 3]\n",
      "Matrix:\n",
      " [[1 2 3]\n",
      " [4 5 6]]\n",
      "Tensor:\n",
      " [[[1 2]\n",
      "  [3 4]]\n",
      "\n",
      " [[5 6]\n",
      "  [7 8]]]\n"
     ]
    }
   ],
   "source": [
    "vector = np.array([1, 2, 3])\n",
    "print(\"Vector:\\n\", vector)\n",
    "\n",
    "matrix = np.array([[1, 2, 3], [4, 5, 6]])\n",
    "print(\"Matrix:\\n\", matrix)  \n",
    "\n",
    "tensor = np.array([[[1, 2], [3, 4]], [[5, 6], [7, 8]]])\n",
    "print(\"Tensor:\\n\", tensor)"
   ]
  },
  {
   "cell_type": "markdown",
   "id": "3cb644e2",
   "metadata": {},
   "source": [
    "### Array Properties"
   ]
  },
  {
   "cell_type": "code",
   "execution_count": 18,
   "id": "1b6ac1eb",
   "metadata": {},
   "outputs": [
    {
     "name": "stdout",
     "output_type": "stream",
     "text": [
      "Array shape: (2, 3)\n",
      "Array data type: int64\n",
      "Array number of dimensions: 2\n",
      "Array size (number of elements): 6\n"
     ]
    }
   ],
   "source": [
    "array = np.array([[1, 2, 3], [4, 5, 6]])\n",
    "print(\"Array shape:\", array.shape)  \n",
    "print(\"Array data type:\", array.dtype)\n",
    "print(\"Array number of dimensions:\", array.ndim)\n",
    "print(\"Array size (number of elements):\", array.size)\n"
   ]
  },
  {
   "cell_type": "markdown",
   "id": "024c549f",
   "metadata": {},
   "source": [
    "### Array Reshaping"
   ]
  },
  {
   "cell_type": "code",
   "execution_count": 19,
   "id": "3f1047bb",
   "metadata": {},
   "outputs": [
    {
     "name": "stdout",
     "output_type": "stream",
     "text": [
      "Reshaped Array (3x4):\n",
      " [[ 0  1  2  3]\n",
      " [ 4  5  6  7]\n",
      " [ 8  9 10 11]]\n",
      "Flattened Array:\n",
      " [ 0  1  2  3  4  5  6  7  8  9 10 11]\n",
      "Raveled Array:\n",
      " [ 0  1  2  3  4  5  6  7  8  9 10 11]\n",
      "Transposed Array:\n",
      " [[ 0  4  8]\n",
      " [ 1  5  9]\n",
      " [ 2  6 10]\n",
      " [ 3  7 11]]\n"
     ]
    }
   ],
   "source": [
    "array = np.arange(12)\n",
    "reshaped_array = array.reshape((3, 4))\n",
    "print(\"Reshaped Array (3x4):\\n\", reshaped_array)\n",
    "flattened_array = reshaped_array.flatten()\n",
    "print(\"Flattened Array:\\n\", flattened_array)\n",
    "raveled_array = reshaped_array.ravel()\n",
    "print(\"Raveled Array:\\n\", raveled_array) # gives a flattened view without making a copy\n",
    "transposed_array = reshaped_array.T\n",
    "print(\"Transposed Array:\\n\", transposed_array)"
   ]
  }
 ],
 "metadata": {
  "kernelspec": {
   "display_name": "Python 3",
   "language": "python",
   "name": "python3"
  },
  "language_info": {
   "codemirror_mode": {
    "name": "ipython",
    "version": 3
   },
   "file_extension": ".py",
   "mimetype": "text/x-python",
   "name": "python",
   "nbconvert_exporter": "python",
   "pygments_lexer": "ipython3",
   "version": "3.14.0"
  }
 },
 "nbformat": 4,
 "nbformat_minor": 5
}
