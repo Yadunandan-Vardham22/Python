{
 "cells": [
  {
   "cell_type": "code",
   "execution_count": 1,
   "id": "8efd764d",
   "metadata": {},
   "outputs": [
    {
     "name": "stderr",
     "output_type": "stream",
     "text": [
      "Matplotlib is building the font cache; this may take a moment.\n"
     ]
    }
   ],
   "source": [
    "import numpy as np\n",
    "import matplotlib.pyplot as plt\n"
   ]
  },
  {
   "cell_type": "code",
   "execution_count": 3,
   "id": "d8be7ea6",
   "metadata": {},
   "outputs": [
    {
     "name": "stdout",
     "output_type": "stream",
     "text": [
      "First three restaurants' data:\n",
      " [[   1 1500 1600 1700 1800]\n",
      " [   2 2000 2100 2200 2300]\n",
      " [   3 2500 2600 2700 2800]]\n"
     ]
    }
   ],
   "source": [
    "# data = [restuarantid, 2022,2023,2024,2025]\n",
    "\n",
    "sales_data = np.array([\n",
    "    [1, 1500, 1600, 1700, 1800],\n",
    "    [2, 2000, 2100, 2200, 2300],\n",
    "    [3, 2500, 2600, 2700, 2800],\n",
    "    [4, 3000, 3100, 3200, 3300],\n",
    "])\n",
    "\n",
    "# extract data of first 3 restaurants\n",
    "first_three_restaurants = sales_data[:3, :]\n",
    "print(\"First three restaurants' data:\\n\", first_three_restaurants)  "
   ]
  },
  {
   "cell_type": "code",
   "execution_count": 4,
   "id": "d9fed23a",
   "metadata": {},
   "outputs": [
    {
     "name": "stdout",
     "output_type": "stream",
     "text": [
      "Total sales per year: [ 9000  9400  9800 10200]\n"
     ]
    }
   ],
   "source": [
    "# total sales for each year\n",
    "total_sales_per_year = np.sum(sales_data[:, 1:], axis=0)\n",
    "print(\"Total sales per year:\", total_sales_per_year)   \n"
   ]
  }
 ],
 "metadata": {
  "kernelspec": {
   "display_name": "Python 3",
   "language": "python",
   "name": "python3"
  },
  "language_info": {
   "codemirror_mode": {
    "name": "ipython",
    "version": 3
   },
   "file_extension": ".py",
   "mimetype": "text/x-python",
   "name": "python",
   "nbconvert_exporter": "python",
   "pygments_lexer": "ipython3",
   "version": "3.14.0"
  }
 },
 "nbformat": 4,
 "nbformat_minor": 5
}
