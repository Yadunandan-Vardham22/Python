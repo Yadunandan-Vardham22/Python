{
 "cells": [
  {
   "cell_type": "code",
   "execution_count": 2,
   "id": "f2f56515",
   "metadata": {},
   "outputs": [
    {
     "name": "stdout",
     "output_type": "stream",
     "text": [
      "   A  B  C\n",
      "0  1  2  3\n",
      "1  4  5  6\n",
      "2  7  8  9\n",
      "   A  B  C\n",
      "1  4  5  6\n",
      "2  7  8  9\n",
      "   A  B  C\n",
      "0  1  2  3\n",
      "1  4  5  6\n",
      "         A    B    C\n",
      "count  3.0  3.0  3.0\n",
      "mean   4.0  5.0  6.0\n",
      "std    3.0  3.0  3.0\n",
      "min    1.0  2.0  3.0\n",
      "25%    2.5  3.5  4.5\n",
      "50%    4.0  5.0  6.0\n",
      "75%    5.5  6.5  7.5\n",
      "max    7.0  8.0  9.0\n",
      "<class 'pandas.core.frame.DataFrame'>\n",
      "RangeIndex: 3 entries, 0 to 2\n",
      "Data columns (total 3 columns):\n",
      " #   Column  Non-Null Count  Dtype\n",
      "---  ------  --------------  -----\n",
      " 0   A       3 non-null      int64\n",
      " 1   B       3 non-null      int64\n",
      " 2   C       3 non-null      int64\n",
      "dtypes: int64(3)\n",
      "memory usage: 204.0 bytes\n",
      "None\n",
      "(3, 3)\n",
      "Index(['A', 'B', 'C'], dtype='object')\n",
      "A    int64\n",
      "B    int64\n",
      "C    int64\n",
      "dtype: object\n",
      "   A  B  C\n",
      "0  1  2  3\n"
     ]
    }
   ],
   "source": [
    "import pandas as pd\n",
    "\n",
    "df=pd.DataFrame([[1,2,3],[4,5,6],[7,8,9]],columns=['A','B','C'])\n",
    "print(df.head()) # gives first 5 rows\n",
    "print(df.tail(2)) # gives last 2 rows\n",
    "print(df.sample(2)) # gives 2 random rows\n",
    "print(df.describe()) # gives statistical summary of numerical columns\n",
    "print(df.info()) # gives summary of dataframe including data types and non-null counts\n",
    "print(df.shape) # gives number of rows and columns\n",
    "print(df.columns) # gives list of column names\n",
    "print(df.dtypes) # gives data types of each column\n",
    "print(df.head(1)) # gives first row"
   ]
  },
  {
   "cell_type": "markdown",
   "id": "489eacad",
   "metadata": {},
   "source": []
  }
 ],
 "metadata": {
  "kernelspec": {
   "display_name": "Python 3",
   "language": "python",
   "name": "python3"
  },
  "language_info": {
   "codemirror_mode": {
    "name": "ipython",
    "version": 3
   },
   "file_extension": ".py",
   "mimetype": "text/x-python",
   "name": "python",
   "nbconvert_exporter": "python",
   "pygments_lexer": "ipython3",
   "version": "3.14.0"
  }
 },
 "nbformat": 4,
 "nbformat_minor": 5
}
